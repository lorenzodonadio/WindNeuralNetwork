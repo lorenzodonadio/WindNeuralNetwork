{
 "cells": [
  {
   "cell_type": "code",
   "execution_count": 1,
   "metadata": {
    "slideshow": {
     "slide_type": "slide"
    }
   },
   "outputs": [],
   "source": [
    "import pandas as pd\n",
    "import geopandas as gpd\n",
    "import numpy as np\n",
    "import matplotlib.pyplot as plt\n",
    "import requests\n",
    "import xml.etree.ElementTree as ET\n",
    "import time\n",
    "import datetime\n",
    "import os.path\n",
    "\n",
    "from os import path\n",
    "from apscheduler.schedulers.blocking import BlockingScheduler\n",
    "from apscheduler.triggers.cron import CronTrigger"
   ]
  },
  {
   "cell_type": "code",
   "execution_count": 2,
   "metadata": {
    "slideshow": {
     "slide_type": "skip"
    }
   },
   "outputs": [],
   "source": [
    "FILE_PATH='request_juvent/'"
   ]
  },
  {
   "cell_type": "code",
   "execution_count": 3,
   "metadata": {
    "slideshow": {
     "slide_type": "slide"
    }
   },
   "outputs": [],
   "source": [
    "def add_juvent_data():\n",
    "    file_name=FILE_PATH+'Juvent_'+datetime.datetime.now().strftime(\"%b\")+'_'+str(datetime.datetime.now().year)+'.csv'\n",
    "    \n",
    "    if  path.exists(file_name):\n",
    "        \n",
    "        try:\n",
    "            df=pd.read_csv(file_name).drop('Unnamed: 0',axis=1)\n",
    "        except:\n",
    "            df=pd.read_csv(file_name)\n",
    "    else:\n",
    "        cols=['Time', 'Turbine_id','Production', 'Power', 'Wind_Speed','Wind_Direction', 'Temperature']\n",
    "        df=pd.DataFrame(columns=cols)\n",
    "\n",
    "    response=requests.get('http://www.juvent.ch/tl_files/content/atfront_flash/normalizedTurbine.xml')\n",
    "    tree = ET.fromstring(response.content)\n",
    "    for child in tree:\n",
    "        content=[datetime.datetime.now().__str__()]\n",
    "        content.append(child.attrib['id'])\n",
    "        for i in child.itertext():\n",
    "            if i.strip()=='':\n",
    "                pass\n",
    "            else:\n",
    "                content.append(i.strip())\n",
    "\n",
    "        df=df.append(pd.Series(content, index=df.columns), ignore_index=True)\n",
    "    df.to_csv(file_name)\n",
    "    del df"
   ]
  },
  {
   "cell_type": "code",
   "execution_count": null,
   "metadata": {
    "slideshow": {
     "slide_type": "slide"
    }
   },
   "outputs": [
    {
     "name": "stderr",
     "output_type": "stream",
     "text": [
      "Job \"add_juvent_data (trigger: cron[month='*', day='*', day_of_week='*', hour='*', minute='*/10'], next run at: 2020-08-04 17:40:00 CEST)\" raised an exception\n",
      "Traceback (most recent call last):\n",
      "  File \"C:\\Users\\students\\Anaconda3\\envs\\wnn\\lib\\site-packages\\urllib3\\connection.py\", line 157, in _new_conn\n",
      "    (self._dns_host, self.port), self.timeout, **extra_kw\n",
      "  File \"C:\\Users\\students\\Anaconda3\\envs\\wnn\\lib\\site-packages\\urllib3\\util\\connection.py\", line 84, in create_connection\n",
      "    raise err\n",
      "  File \"C:\\Users\\students\\Anaconda3\\envs\\wnn\\lib\\site-packages\\urllib3\\util\\connection.py\", line 74, in create_connection\n",
      "    sock.connect(sa)\n",
      "TimeoutError: [WinError 10060] A connection attempt failed because the connected party did not properly respond after a period of time, or established connection failed because connected host has failed to respond\n",
      "\n",
      "During handling of the above exception, another exception occurred:\n",
      "\n",
      "Traceback (most recent call last):\n",
      "  File \"C:\\Users\\students\\Anaconda3\\envs\\wnn\\lib\\site-packages\\urllib3\\connectionpool.py\", line 672, in urlopen\n",
      "    chunked=chunked,\n",
      "  File \"C:\\Users\\students\\Anaconda3\\envs\\wnn\\lib\\site-packages\\urllib3\\connectionpool.py\", line 387, in _make_request\n",
      "    conn.request(method, url, **httplib_request_kw)\n",
      "  File \"C:\\Users\\students\\Anaconda3\\envs\\wnn\\lib\\http\\client.py\", line 1252, in request\n",
      "    self._send_request(method, url, body, headers, encode_chunked)\n",
      "  File \"C:\\Users\\students\\Anaconda3\\envs\\wnn\\lib\\http\\client.py\", line 1298, in _send_request\n",
      "    self.endheaders(body, encode_chunked=encode_chunked)\n",
      "  File \"C:\\Users\\students\\Anaconda3\\envs\\wnn\\lib\\http\\client.py\", line 1247, in endheaders\n",
      "    self._send_output(message_body, encode_chunked=encode_chunked)\n",
      "  File \"C:\\Users\\students\\Anaconda3\\envs\\wnn\\lib\\http\\client.py\", line 1026, in _send_output\n",
      "    self.send(msg)\n",
      "  File \"C:\\Users\\students\\Anaconda3\\envs\\wnn\\lib\\http\\client.py\", line 966, in send\n",
      "    self.connect()\n",
      "  File \"C:\\Users\\students\\Anaconda3\\envs\\wnn\\lib\\site-packages\\urllib3\\connection.py\", line 184, in connect\n",
      "    conn = self._new_conn()\n",
      "  File \"C:\\Users\\students\\Anaconda3\\envs\\wnn\\lib\\site-packages\\urllib3\\connection.py\", line 169, in _new_conn\n",
      "    self, \"Failed to establish a new connection: %s\" % e\n",
      "urllib3.exceptions.NewConnectionError: <urllib3.connection.HTTPConnection object at 0x00000178BCDE8C08>: Failed to establish a new connection: [WinError 10060] A connection attempt failed because the connected party did not properly respond after a period of time, or established connection failed because connected host has failed to respond\n",
      "\n",
      "During handling of the above exception, another exception occurred:\n",
      "\n",
      "Traceback (most recent call last):\n",
      "  File \"C:\\Users\\students\\Anaconda3\\envs\\wnn\\lib\\site-packages\\requests\\adapters.py\", line 449, in send\n",
      "    timeout=timeout\n",
      "  File \"C:\\Users\\students\\Anaconda3\\envs\\wnn\\lib\\site-packages\\urllib3\\connectionpool.py\", line 720, in urlopen\n",
      "    method, url, error=e, _pool=self, _stacktrace=sys.exc_info()[2]\n",
      "  File \"C:\\Users\\students\\Anaconda3\\envs\\wnn\\lib\\site-packages\\urllib3\\util\\retry.py\", line 436, in increment\n",
      "    raise MaxRetryError(_pool, url, error or ResponseError(cause))\n",
      "urllib3.exceptions.MaxRetryError: HTTPConnectionPool(host='www.juvent.ch', port=80): Max retries exceeded with url: /tl_files/content/atfront_flash/normalizedTurbine.xml (Caused by NewConnectionError('<urllib3.connection.HTTPConnection object at 0x00000178BCDE8C08>: Failed to establish a new connection: [WinError 10060] A connection attempt failed because the connected party did not properly respond after a period of time, or established connection failed because connected host has failed to respond'))\n",
      "\n",
      "During handling of the above exception, another exception occurred:\n",
      "\n",
      "Traceback (most recent call last):\n",
      "  File \"C:\\Users\\students\\Anaconda3\\envs\\wnn\\lib\\site-packages\\apscheduler\\executors\\base.py\", line 125, in run_job\n",
      "    retval = job.func(*job.args, **job.kwargs)\n",
      "  File \"<ipython-input-3-376418d67090>\", line 14, in add_juvent_data\n",
      "    response=requests.get('http://www.juvent.ch/tl_files/content/atfront_flash/normalizedTurbine.xml')\n",
      "  File \"C:\\Users\\students\\Anaconda3\\envs\\wnn\\lib\\site-packages\\requests\\api.py\", line 76, in get\n",
      "    return request('get', url, params=params, **kwargs)\n",
      "  File \"C:\\Users\\students\\Anaconda3\\envs\\wnn\\lib\\site-packages\\requests\\api.py\", line 61, in request\n",
      "    return session.request(method=method, url=url, **kwargs)\n",
      "  File \"C:\\Users\\students\\Anaconda3\\envs\\wnn\\lib\\site-packages\\requests\\sessions.py\", line 530, in request\n",
      "    resp = self.send(prep, **send_kwargs)\n",
      "  File \"C:\\Users\\students\\Anaconda3\\envs\\wnn\\lib\\site-packages\\requests\\sessions.py\", line 643, in send\n",
      "    r = adapter.send(request, **kwargs)\n",
      "  File \"C:\\Users\\students\\Anaconda3\\envs\\wnn\\lib\\site-packages\\requests\\adapters.py\", line 516, in send\n",
      "    raise ConnectionError(e, request=request)\n",
      "requests.exceptions.ConnectionError: HTTPConnectionPool(host='www.juvent.ch', port=80): Max retries exceeded with url: /tl_files/content/atfront_flash/normalizedTurbine.xml (Caused by NewConnectionError('<urllib3.connection.HTTPConnection object at 0x00000178BCDE8C08>: Failed to establish a new connection: [WinError 10060] A connection attempt failed because the connected party did not properly respond after a period of time, or established connection failed because connected host has failed to respond'))\n"
     ]
    }
   ],
   "source": [
    "sched = BlockingScheduler()\n",
    "sched.add_job(add_juvent_data,CronTrigger.from_crontab('*/10 * * * *'))\n",
    "sched.start()"
   ]
  },
  {
   "cell_type": "code",
   "execution_count": null,
   "metadata": {},
   "outputs": [],
   "source": []
  }
 ],
 "metadata": {
  "celltoolbar": "Raw Cell Format",
  "kernelspec": {
   "display_name": "Python 3",
   "language": "python",
   "name": "python3"
  },
  "language_info": {
   "codemirror_mode": {
    "name": "ipython",
    "version": 3
   },
   "file_extension": ".py",
   "mimetype": "text/x-python",
   "name": "python",
   "nbconvert_exporter": "python",
   "pygments_lexer": "ipython3",
   "version": "3.7.6"
  }
 },
 "nbformat": 4,
 "nbformat_minor": 2
}
